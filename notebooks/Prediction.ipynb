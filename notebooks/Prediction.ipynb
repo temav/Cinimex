{
 "cells": [
  {
   "cell_type": "markdown",
   "metadata": {},
   "source": [
    "### Extract data from database"
   ]
  },
  {
   "cell_type": "code",
   "execution_count": 212,
   "metadata": {},
   "outputs": [],
   "source": [
    "from tqdm import tqdm\n",
    "\n",
    "import mariadb\n",
    "import pandas as pd\n",
    "import numpy as np\n",
    "import matplotlib.pyplot as plt\n",
    "%matplotlib inline"
   ]
  },
  {
   "cell_type": "markdown",
   "metadata": {},
   "source": [
    "**Connection to server**"
   ]
  },
  {
   "cell_type": "code",
   "execution_count": 213,
   "metadata": {},
   "outputs": [],
   "source": [
    "try:\n",
    "    conn = mariadb.connect(\n",
    "        user=\"guest\",\n",
    "        password=\"relational\",\n",
    "        host=\"relational.fit.cvut.cz\",\n",
    "        port=3306,\n",
    "        database=\"ftp\"\n",
    "    )\n",
    "except mariadb.Error as e:\n",
    "    print(f\"Error connecting to MariaDB Platform: {e}\")\n",
    "    sys.exit(1)\n",
    "\n",
    "cur = conn.cursor()"
   ]
  },
  {
   "cell_type": "markdown",
   "metadata": {},
   "source": [
    "**Converting from sql result to pandas DataFrame**"
   ]
  },
  {
   "cell_type": "code",
   "execution_count": 3,
   "metadata": {},
   "outputs": [],
   "source": [
    "SQL_Query_session = pd.read_sql_query('''select * from session''', conn)\n",
    "SQL_Query_product = pd.read_sql_query('''select * from product''', conn)"
   ]
  },
  {
   "cell_type": "code",
   "execution_count": 4,
   "metadata": {},
   "outputs": [],
   "source": [
    "df_session = pd.DataFrame(SQL_Query_session)\n",
    "df_product = pd.DataFrame(SQL_Query_product)"
   ]
  },
  {
   "cell_type": "markdown",
   "metadata": {},
   "source": [
    "**Saving data in csv format**"
   ]
  },
  {
   "cell_type": "code",
   "execution_count": 5,
   "metadata": {},
   "outputs": [],
   "source": [
    "df_session.to_csv(r'C:\\Users\\Tema\\cinimex\\task_1\\data\\raw\\session_data.csv', index=False)\n",
    "df_product.to_csv(r'C:\\Users\\Tema\\cinimex\\task_1\\data\\raw\\product_data.csv', index=False)"
   ]
  },
  {
   "cell_type": "code",
   "execution_count": 6,
   "metadata": {},
   "outputs": [],
   "source": [
    "df_session = pd.read_csv(r'C:\\Users\\Tema\\cinimex\\task_1\\data\\raw\\session_data.csv')\n",
    "df_product = pd.read_csv(r'C:\\Users\\Tema\\cinimex\\task_1\\data\\raw\\product_data.csv')"
   ]
  },
  {
   "cell_type": "code",
   "execution_count": 7,
   "metadata": {},
   "outputs": [],
   "source": [
    "df_general = df_product.merge(df_session, on='session_id', validate='many_to_one')"
   ]
  },
  {
   "cell_type": "code",
   "execution_count": 8,
   "metadata": {},
   "outputs": [
    {
     "data": {
      "text/plain": [
       "array([42801, 10877,  9448,  1096,   877,   574,   266,   200,   138,\n",
       "         125,    89], dtype=int64)"
      ]
     },
     "execution_count": 8,
     "metadata": {},
     "output_type": "execute_result"
    }
   ],
   "source": [
    "df_general['category_a'].value_counts().values"
   ]
  },
  {
   "cell_type": "markdown",
   "metadata": {},
   "source": [
    "**Review raw data**"
   ]
  },
  {
   "cell_type": "code",
   "execution_count": 9,
   "metadata": {},
   "outputs": [
    {
     "data": {
      "text/html": [
       "<div>\n",
       "<style scoped>\n",
       "    .dataframe tbody tr th:only-of-type {\n",
       "        vertical-align: middle;\n",
       "    }\n",
       "\n",
       "    .dataframe tbody tr th {\n",
       "        vertical-align: top;\n",
       "    }\n",
       "\n",
       "    .dataframe thead th {\n",
       "        text-align: right;\n",
       "    }\n",
       "</style>\n",
       "<table border=\"1\" class=\"dataframe\">\n",
       "  <thead>\n",
       "    <tr style=\"text-align: right;\">\n",
       "      <th></th>\n",
       "      <th>session_id</th>\n",
       "      <th>sequence_order</th>\n",
       "      <th>category_a</th>\n",
       "      <th>category_b</th>\n",
       "      <th>category_c</th>\n",
       "      <th>category_d</th>\n",
       "      <th>start_time</th>\n",
       "      <th>end_time</th>\n",
       "      <th>gender</th>\n",
       "    </tr>\n",
       "  </thead>\n",
       "  <tbody>\n",
       "    <tr>\n",
       "      <th>0</th>\n",
       "      <td>u10001</td>\n",
       "      <td>1</td>\n",
       "      <td>A00001</td>\n",
       "      <td>B00001</td>\n",
       "      <td>C00001</td>\n",
       "      <td>D00001</td>\n",
       "      <td>2014-11-14 00:02:14</td>\n",
       "      <td>2014-11-14 00:02:20</td>\n",
       "      <td>female</td>\n",
       "    </tr>\n",
       "    <tr>\n",
       "      <th>1</th>\n",
       "      <td>u10002</td>\n",
       "      <td>1</td>\n",
       "      <td>A00002</td>\n",
       "      <td>B00002</td>\n",
       "      <td>C00002</td>\n",
       "      <td>D24897</td>\n",
       "      <td>2014-12-12 14:12:05</td>\n",
       "      <td>2014-12-12 14:12:06</td>\n",
       "      <td>female</td>\n",
       "    </tr>\n",
       "    <tr>\n",
       "      <th>2</th>\n",
       "      <td>u10003</td>\n",
       "      <td>1</td>\n",
       "      <td>A00002</td>\n",
       "      <td>B00002</td>\n",
       "      <td>C00002</td>\n",
       "      <td>D00002</td>\n",
       "      <td>2014-11-14 00:02:41</td>\n",
       "      <td>2014-11-14 00:16:40</td>\n",
       "      <td>female</td>\n",
       "    </tr>\n",
       "    <tr>\n",
       "      <th>3</th>\n",
       "      <td>u10003</td>\n",
       "      <td>2</td>\n",
       "      <td>A00002</td>\n",
       "      <td>B00002</td>\n",
       "      <td>C00003</td>\n",
       "      <td>D00003</td>\n",
       "      <td>2014-11-14 00:02:41</td>\n",
       "      <td>2014-11-14 00:16:40</td>\n",
       "      <td>female</td>\n",
       "    </tr>\n",
       "    <tr>\n",
       "      <th>4</th>\n",
       "      <td>u10003</td>\n",
       "      <td>3</td>\n",
       "      <td>A00002</td>\n",
       "      <td>B00002</td>\n",
       "      <td>C00007</td>\n",
       "      <td>D00007</td>\n",
       "      <td>2014-11-14 00:02:41</td>\n",
       "      <td>2014-11-14 00:16:40</td>\n",
       "      <td>female</td>\n",
       "    </tr>\n",
       "  </tbody>\n",
       "</table>\n",
       "</div>"
      ],
      "text/plain": [
       "  session_id  sequence_order category_a category_b category_c category_d  \\\n",
       "0     u10001               1     A00001     B00001     C00001     D00001   \n",
       "1     u10002               1     A00002     B00002     C00002     D24897   \n",
       "2     u10003               1     A00002     B00002     C00002     D00002   \n",
       "3     u10003               2     A00002     B00002     C00003     D00003   \n",
       "4     u10003               3     A00002     B00002     C00007     D00007   \n",
       "\n",
       "            start_time             end_time  gender  \n",
       "0  2014-11-14 00:02:14  2014-11-14 00:02:20  female  \n",
       "1  2014-12-12 14:12:05  2014-12-12 14:12:06  female  \n",
       "2  2014-11-14 00:02:41  2014-11-14 00:16:40  female  \n",
       "3  2014-11-14 00:02:41  2014-11-14 00:16:40  female  \n",
       "4  2014-11-14 00:02:41  2014-11-14 00:16:40  female  "
      ]
     },
     "execution_count": 9,
     "metadata": {},
     "output_type": "execute_result"
    }
   ],
   "source": [
    "df_general.head()"
   ]
  },
  {
   "cell_type": "code",
   "execution_count": 10,
   "metadata": {},
   "outputs": [
    {
     "name": "stdout",
     "output_type": "stream",
     "text": [
      "<class 'pandas.core.frame.DataFrame'>\n",
      "Int64Index: 66491 entries, 0 to 66490\n",
      "Data columns (total 9 columns):\n",
      " #   Column          Non-Null Count  Dtype \n",
      "---  ------          --------------  ----- \n",
      " 0   session_id      66491 non-null  object\n",
      " 1   sequence_order  66491 non-null  int64 \n",
      " 2   category_a      66491 non-null  object\n",
      " 3   category_b      66491 non-null  object\n",
      " 4   category_c      66491 non-null  object\n",
      " 5   category_d      66491 non-null  object\n",
      " 6   start_time      66491 non-null  object\n",
      " 7   end_time        66491 non-null  object\n",
      " 8   gender          33455 non-null  object\n",
      "dtypes: int64(1), object(8)\n",
      "memory usage: 5.1+ MB\n"
     ]
    }
   ],
   "source": [
    "df_general.info()"
   ]
  },
  {
   "cell_type": "code",
   "execution_count": 11,
   "metadata": {},
   "outputs": [
    {
     "data": {
      "text/html": [
       "<div>\n",
       "<style scoped>\n",
       "    .dataframe tbody tr th:only-of-type {\n",
       "        vertical-align: middle;\n",
       "    }\n",
       "\n",
       "    .dataframe tbody tr th {\n",
       "        vertical-align: top;\n",
       "    }\n",
       "\n",
       "    .dataframe thead th {\n",
       "        text-align: right;\n",
       "    }\n",
       "</style>\n",
       "<table border=\"1\" class=\"dataframe\">\n",
       "  <thead>\n",
       "    <tr style=\"text-align: right;\">\n",
       "      <th></th>\n",
       "      <th>session_id</th>\n",
       "      <th>sequence_order</th>\n",
       "      <th>category_a</th>\n",
       "      <th>category_b</th>\n",
       "      <th>category_c</th>\n",
       "      <th>category_d</th>\n",
       "      <th>start_time</th>\n",
       "      <th>end_time</th>\n",
       "    </tr>\n",
       "    <tr>\n",
       "      <th>gender</th>\n",
       "      <th></th>\n",
       "      <th></th>\n",
       "      <th></th>\n",
       "      <th></th>\n",
       "      <th></th>\n",
       "      <th></th>\n",
       "      <th></th>\n",
       "      <th></th>\n",
       "    </tr>\n",
       "  </thead>\n",
       "  <tbody>\n",
       "    <tr>\n",
       "      <th>female</th>\n",
       "      <td>26384</td>\n",
       "      <td>26384</td>\n",
       "      <td>26384</td>\n",
       "      <td>26384</td>\n",
       "      <td>26384</td>\n",
       "      <td>26384</td>\n",
       "      <td>26384</td>\n",
       "      <td>26384</td>\n",
       "    </tr>\n",
       "    <tr>\n",
       "      <th>male</th>\n",
       "      <td>7071</td>\n",
       "      <td>7071</td>\n",
       "      <td>7071</td>\n",
       "      <td>7071</td>\n",
       "      <td>7071</td>\n",
       "      <td>7071</td>\n",
       "      <td>7071</td>\n",
       "      <td>7071</td>\n",
       "    </tr>\n",
       "  </tbody>\n",
       "</table>\n",
       "</div>"
      ],
      "text/plain": [
       "        session_id  sequence_order  category_a  category_b  category_c  \\\n",
       "gender                                                                   \n",
       "female       26384           26384       26384       26384       26384   \n",
       "male          7071            7071        7071        7071        7071   \n",
       "\n",
       "        category_d  start_time  end_time  \n",
       "gender                                    \n",
       "female       26384       26384     26384  \n",
       "male          7071        7071      7071  "
      ]
     },
     "execution_count": 11,
     "metadata": {},
     "output_type": "execute_result"
    }
   ],
   "source": [
    "df_general.groupby('gender').count()"
   ]
  },
  {
   "cell_type": "code",
   "execution_count": 12,
   "metadata": {},
   "outputs": [
    {
     "data": {
      "text/plain": [
       "11"
      ]
     },
     "execution_count": 12,
     "metadata": {},
     "output_type": "execute_result"
    }
   ],
   "source": [
    "df_general['category_a'].nunique()"
   ]
  },
  {
   "cell_type": "markdown",
   "metadata": {},
   "source": [
    "## Processing data\n",
    "\n",
    "*-select essential columns*\n",
    "\n",
    "*-create new features*"
   ]
  },
  {
   "cell_type": "code",
   "execution_count": 13,
   "metadata": {},
   "outputs": [],
   "source": [
    "df_gen_train = df_general.dropna()"
   ]
  },
  {
   "cell_type": "code",
   "execution_count": 14,
   "metadata": {},
   "outputs": [
    {
     "name": "stdout",
     "output_type": "stream",
     "text": [
      "<class 'pandas.core.frame.DataFrame'>\n",
      "Int64Index: 33455 entries, 0 to 33454\n",
      "Data columns (total 9 columns):\n",
      " #   Column          Non-Null Count  Dtype \n",
      "---  ------          --------------  ----- \n",
      " 0   session_id      33455 non-null  object\n",
      " 1   sequence_order  33455 non-null  int64 \n",
      " 2   category_a      33455 non-null  object\n",
      " 3   category_b      33455 non-null  object\n",
      " 4   category_c      33455 non-null  object\n",
      " 5   category_d      33455 non-null  object\n",
      " 6   start_time      33455 non-null  object\n",
      " 7   end_time        33455 non-null  object\n",
      " 8   gender          33455 non-null  object\n",
      "dtypes: int64(1), object(8)\n",
      "memory usage: 2.6+ MB\n"
     ]
    }
   ],
   "source": [
    "df_gen_train.info()"
   ]
  },
  {
   "cell_type": "code",
   "execution_count": 15,
   "metadata": {},
   "outputs": [
    {
     "name": "stderr",
     "output_type": "stream",
     "text": [
      "C:\\Users\\Tema\\anaconda3\\envs\\cinimex\\lib\\site-packages\\ipykernel_launcher.py:4: SettingWithCopyWarning: \n",
      "A value is trying to be set on a copy of a slice from a DataFrame.\n",
      "Try using .loc[row_indexer,col_indexer] = value instead\n",
      "\n",
      "See the caveats in the documentation: https://pandas.pydata.org/pandas-docs/stable/user_guide/indexing.html#returning-a-view-versus-a-copy\n",
      "  after removing the cwd from sys.path.\n"
     ]
    },
    {
     "data": {
      "text/html": [
       "<div>\n",
       "<style scoped>\n",
       "    .dataframe tbody tr th:only-of-type {\n",
       "        vertical-align: middle;\n",
       "    }\n",
       "\n",
       "    .dataframe tbody tr th {\n",
       "        vertical-align: top;\n",
       "    }\n",
       "\n",
       "    .dataframe thead th {\n",
       "        text-align: right;\n",
       "    }\n",
       "</style>\n",
       "<table border=\"1\" class=\"dataframe\">\n",
       "  <thead>\n",
       "    <tr style=\"text-align: right;\">\n",
       "      <th></th>\n",
       "      <th>session_id</th>\n",
       "      <th>sequence_order</th>\n",
       "      <th>category_a</th>\n",
       "      <th>category_b</th>\n",
       "      <th>category_c</th>\n",
       "      <th>category_d</th>\n",
       "      <th>start_time</th>\n",
       "      <th>end_time</th>\n",
       "      <th>gender</th>\n",
       "      <th>duration</th>\n",
       "    </tr>\n",
       "  </thead>\n",
       "  <tbody>\n",
       "    <tr>\n",
       "      <th>0</th>\n",
       "      <td>u10001</td>\n",
       "      <td>1</td>\n",
       "      <td>A00001</td>\n",
       "      <td>B00001</td>\n",
       "      <td>C00001</td>\n",
       "      <td>D00001</td>\n",
       "      <td>2014-11-14 00:02:14</td>\n",
       "      <td>2014-11-14 00:02:20</td>\n",
       "      <td>female</td>\n",
       "      <td>0.100000</td>\n",
       "    </tr>\n",
       "    <tr>\n",
       "      <th>1</th>\n",
       "      <td>u10002</td>\n",
       "      <td>1</td>\n",
       "      <td>A00002</td>\n",
       "      <td>B00002</td>\n",
       "      <td>C00002</td>\n",
       "      <td>D24897</td>\n",
       "      <td>2014-12-12 14:12:05</td>\n",
       "      <td>2014-12-12 14:12:06</td>\n",
       "      <td>female</td>\n",
       "      <td>0.016667</td>\n",
       "    </tr>\n",
       "    <tr>\n",
       "      <th>2</th>\n",
       "      <td>u10003</td>\n",
       "      <td>1</td>\n",
       "      <td>A00002</td>\n",
       "      <td>B00002</td>\n",
       "      <td>C00002</td>\n",
       "      <td>D00002</td>\n",
       "      <td>2014-11-14 00:02:41</td>\n",
       "      <td>2014-11-14 00:16:40</td>\n",
       "      <td>female</td>\n",
       "      <td>13.983333</td>\n",
       "    </tr>\n",
       "    <tr>\n",
       "      <th>3</th>\n",
       "      <td>u10003</td>\n",
       "      <td>2</td>\n",
       "      <td>A00002</td>\n",
       "      <td>B00002</td>\n",
       "      <td>C00003</td>\n",
       "      <td>D00003</td>\n",
       "      <td>2014-11-14 00:02:41</td>\n",
       "      <td>2014-11-14 00:16:40</td>\n",
       "      <td>female</td>\n",
       "      <td>13.983333</td>\n",
       "    </tr>\n",
       "    <tr>\n",
       "      <th>4</th>\n",
       "      <td>u10003</td>\n",
       "      <td>3</td>\n",
       "      <td>A00002</td>\n",
       "      <td>B00002</td>\n",
       "      <td>C00007</td>\n",
       "      <td>D00007</td>\n",
       "      <td>2014-11-14 00:02:41</td>\n",
       "      <td>2014-11-14 00:16:40</td>\n",
       "      <td>female</td>\n",
       "      <td>13.983333</td>\n",
       "    </tr>\n",
       "  </tbody>\n",
       "</table>\n",
       "</div>"
      ],
      "text/plain": [
       "  session_id  sequence_order category_a category_b category_c category_d  \\\n",
       "0     u10001               1     A00001     B00001     C00001     D00001   \n",
       "1     u10002               1     A00002     B00002     C00002     D24897   \n",
       "2     u10003               1     A00002     B00002     C00002     D00002   \n",
       "3     u10003               2     A00002     B00002     C00003     D00003   \n",
       "4     u10003               3     A00002     B00002     C00007     D00007   \n",
       "\n",
       "            start_time             end_time  gender   duration  \n",
       "0  2014-11-14 00:02:14  2014-11-14 00:02:20  female   0.100000  \n",
       "1  2014-12-12 14:12:05  2014-12-12 14:12:06  female   0.016667  \n",
       "2  2014-11-14 00:02:41  2014-11-14 00:16:40  female  13.983333  \n",
       "3  2014-11-14 00:02:41  2014-11-14 00:16:40  female  13.983333  \n",
       "4  2014-11-14 00:02:41  2014-11-14 00:16:40  female  13.983333  "
      ]
     },
     "execution_count": 15,
     "metadata": {},
     "output_type": "execute_result"
    }
   ],
   "source": [
    "duration = (pd.to_datetime(df_gen_train['end_time'])-\n",
    "                            pd.to_datetime(df_gen_train['start_time'])).apply(lambda i: \n",
    "                                                                              i.total_seconds() / 60.0)\n",
    "df_gen_train['duration'] = duration\n",
    "df_gen_train.head()"
   ]
  },
  {
   "cell_type": "code",
   "execution_count": 147,
   "metadata": {},
   "outputs": [],
   "source": [
    "df_orders = df_gen_train.groupby('session_id')\\\n",
    "                        .nunique()\\\n",
    "                        .drop(labels=['start_time', 'end_time', 'gender',\n",
    "                                      'duration', 'sequence_order'], axis=1)\n",
    "df_duration = df_gen_train.groupby('session_id').mean()['duration']"
   ]
  },
  {
   "cell_type": "markdown",
   "metadata": {},
   "source": [
    "**Merging data of categories's view and session's duration**"
   ]
  },
  {
   "cell_type": "code",
   "execution_count": 152,
   "metadata": {},
   "outputs": [
    {
     "data": {
      "text/html": [
       "<div>\n",
       "<style scoped>\n",
       "    .dataframe tbody tr th:only-of-type {\n",
       "        vertical-align: middle;\n",
       "    }\n",
       "\n",
       "    .dataframe tbody tr th {\n",
       "        vertical-align: top;\n",
       "    }\n",
       "\n",
       "    .dataframe thead th {\n",
       "        text-align: right;\n",
       "    }\n",
       "</style>\n",
       "<table border=\"1\" class=\"dataframe\">\n",
       "  <thead>\n",
       "    <tr style=\"text-align: right;\">\n",
       "      <th></th>\n",
       "      <th>session_id</th>\n",
       "      <th>category_a</th>\n",
       "      <th>category_b</th>\n",
       "      <th>category_c</th>\n",
       "      <th>category_d</th>\n",
       "      <th>duration</th>\n",
       "      <th>gender</th>\n",
       "    </tr>\n",
       "  </thead>\n",
       "  <tbody>\n",
       "    <tr>\n",
       "      <th>0</th>\n",
       "      <td>u10001</td>\n",
       "      <td>1</td>\n",
       "      <td>1</td>\n",
       "      <td>1</td>\n",
       "      <td>1</td>\n",
       "      <td>0.100000</td>\n",
       "      <td>female</td>\n",
       "    </tr>\n",
       "    <tr>\n",
       "      <th>1</th>\n",
       "      <td>u10002</td>\n",
       "      <td>1</td>\n",
       "      <td>1</td>\n",
       "      <td>1</td>\n",
       "      <td>1</td>\n",
       "      <td>0.016667</td>\n",
       "      <td>female</td>\n",
       "    </tr>\n",
       "    <tr>\n",
       "      <th>2</th>\n",
       "      <td>u10003</td>\n",
       "      <td>1</td>\n",
       "      <td>1</td>\n",
       "      <td>6</td>\n",
       "      <td>12</td>\n",
       "      <td>13.983333</td>\n",
       "      <td>female</td>\n",
       "    </tr>\n",
       "    <tr>\n",
       "      <th>3</th>\n",
       "      <td>u10004</td>\n",
       "      <td>1</td>\n",
       "      <td>1</td>\n",
       "      <td>1</td>\n",
       "      <td>1</td>\n",
       "      <td>0.033333</td>\n",
       "      <td>female</td>\n",
       "    </tr>\n",
       "    <tr>\n",
       "      <th>4</th>\n",
       "      <td>u10005</td>\n",
       "      <td>1</td>\n",
       "      <td>1</td>\n",
       "      <td>2</td>\n",
       "      <td>3</td>\n",
       "      <td>3.283333</td>\n",
       "      <td>female</td>\n",
       "    </tr>\n",
       "  </tbody>\n",
       "</table>\n",
       "</div>"
      ],
      "text/plain": [
       "  session_id  category_a  category_b  category_c  category_d   duration  \\\n",
       "0     u10001           1           1           1           1   0.100000   \n",
       "1     u10002           1           1           1           1   0.016667   \n",
       "2     u10003           1           1           6          12  13.983333   \n",
       "3     u10004           1           1           1           1   0.033333   \n",
       "4     u10005           1           1           2           3   3.283333   \n",
       "\n",
       "   gender  \n",
       "0  female  \n",
       "1  female  \n",
       "2  female  \n",
       "3  female  \n",
       "4  female  "
      ]
     },
     "execution_count": 152,
     "metadata": {},
     "output_type": "execute_result"
    }
   ],
   "source": [
    "df_final = df_orders.merge(df_duration, on='session_id')\n",
    "df_final = df_final.merge(df_gen_train[['session_id','gender']]\\\n",
    "                          .drop_duplicates(), on='session_id')\n",
    "df_final.head()"
   ]
  },
  {
   "cell_type": "code",
   "execution_count": 153,
   "metadata": {},
   "outputs": [
    {
     "data": {
      "text/html": [
       "<div>\n",
       "<style scoped>\n",
       "    .dataframe tbody tr th:only-of-type {\n",
       "        vertical-align: middle;\n",
       "    }\n",
       "\n",
       "    .dataframe tbody tr th {\n",
       "        vertical-align: top;\n",
       "    }\n",
       "\n",
       "    .dataframe thead th {\n",
       "        text-align: right;\n",
       "    }\n",
       "</style>\n",
       "<table border=\"1\" class=\"dataframe\">\n",
       "  <thead>\n",
       "    <tr style=\"text-align: right;\">\n",
       "      <th></th>\n",
       "      <th>session_id</th>\n",
       "      <th>category_a</th>\n",
       "      <th>category_b</th>\n",
       "      <th>category_c</th>\n",
       "      <th>category_d</th>\n",
       "      <th>duration</th>\n",
       "    </tr>\n",
       "    <tr>\n",
       "      <th>gender</th>\n",
       "      <th></th>\n",
       "      <th></th>\n",
       "      <th></th>\n",
       "      <th></th>\n",
       "      <th></th>\n",
       "      <th></th>\n",
       "    </tr>\n",
       "  </thead>\n",
       "  <tbody>\n",
       "    <tr>\n",
       "      <th>female</th>\n",
       "      <td>11703</td>\n",
       "      <td>11703</td>\n",
       "      <td>11703</td>\n",
       "      <td>11703</td>\n",
       "      <td>11703</td>\n",
       "      <td>11703</td>\n",
       "    </tr>\n",
       "    <tr>\n",
       "      <th>male</th>\n",
       "      <td>3297</td>\n",
       "      <td>3297</td>\n",
       "      <td>3297</td>\n",
       "      <td>3297</td>\n",
       "      <td>3297</td>\n",
       "      <td>3297</td>\n",
       "    </tr>\n",
       "  </tbody>\n",
       "</table>\n",
       "</div>"
      ],
      "text/plain": [
       "        session_id  category_a  category_b  category_c  category_d  duration\n",
       "gender                                                                      \n",
       "female       11703       11703       11703       11703       11703     11703\n",
       "male          3297        3297        3297        3297        3297      3297"
      ]
     },
     "execution_count": 153,
     "metadata": {},
     "output_type": "execute_result"
    }
   ],
   "source": [
    "df_final.groupby('gender').count()"
   ]
  },
  {
   "cell_type": "code",
   "execution_count": 208,
   "metadata": {},
   "outputs": [],
   "source": [
    "from sklearn.preprocessing import StandardScaler\n",
    "from sklearn.preprocessing import LabelEncoder\n",
    "labelencoder = LabelEncoder()"
   ]
  },
  {
   "cell_type": "code",
   "execution_count": 274,
   "metadata": {},
   "outputs": [],
   "source": [
    "from sklearn.metrics import classification_report\n",
    "from sklearn.metrics import roc_auc_score\n",
    "from sklearn.metrics import recall_score"
   ]
  },
  {
   "cell_type": "code",
   "execution_count": 244,
   "metadata": {},
   "outputs": [],
   "source": [
    "def getNumpyData(balanced=False, scale=True, shuffle=True):\n",
    "    df_final_ = df_orders.merge(df_duration, on='session_id')\n",
    "    df_final_ = df_final_.merge(df_gen_train[['session_id','gender']]\\\n",
    "                          .drop_duplicates(), on='session_id')\n",
    "    if (balanced):\n",
    "        df_final_ = df_final_.sort_values(by='gender', ascending=False)\n",
    "        df_final_ = df_final_.iloc[:df_final_.groupby('gender').count().iloc[1,0]*2]\n",
    "\n",
    "    y = labelencoder.fit_transform(df_final_['gender'])\n",
    "    X = np.array(df_final_.drop(columns=['gender','session_id']))\n",
    "\n",
    "    if (shuffle):\n",
    "        shuff_indexes = np.arange(y.shape[0])\n",
    "        np.random.shuffle(shuff_indexes)\n",
    "        \n",
    "        X, y = X[shuff_indexes], y[shuff_indexes]\n",
    "    \n",
    "    if (scale):\n",
    "        scaler = StandardScaler().fit(X)\n",
    "        X = scaler.transform(X)\n",
    "        \n",
    "    return [X, y]"
   ]
  },
  {
   "cell_type": "code",
   "execution_count": 245,
   "metadata": {},
   "outputs": [],
   "source": [
    "def cross_validation(func):\n",
    "    def wrapper(folds, balanced, *args, **kwargs):\n",
    "        X, y = getNumpyData(balanced=balanced)\n",
    "        \n",
    "        size = X.shape[0]/folds\n",
    "        score = []\n",
    "\n",
    "        for i in range(1, folds):\n",
    "            index_prev = int(size*i)\n",
    "            index_next = int(size*(i+1))\n",
    "            train_X, test_X = np.concatenate((X[:index_prev], X[index_next:])), X[index_prev:index_next]\n",
    "            train_Y, test_Y = np.concatenate((y[:index_prev], y[index_next:])), y[index_prev:index_next]\n",
    "            score.append(func(train_X,train_Y, test_X, test_Y, *args, **kwargs))\n",
    "        return np.array(score).mean()\n",
    "    return wrapper"
   ]
  },
  {
   "cell_type": "code",
   "execution_count": 246,
   "metadata": {},
   "outputs": [],
   "source": [
    "def ScoreCalculation(model, test_X, test_Y, metric='accuracy'):\n",
    "    if (metric == 'accuracy'):\n",
    "        return model.score(test_X, test_Y)\n",
    "    elif (metric == 'auc'):\n",
    "        return roc_auc_score(model.predict(test_X), test_Y)\n",
    "    elif (metric == 'recall'):\n",
    "        return recall_score(model.predict(test_X), test_Y)"
   ]
  },
  {
   "cell_type": "markdown",
   "metadata": {},
   "source": [
    "### Knn classifier"
   ]
  },
  {
   "cell_type": "code",
   "execution_count": 247,
   "metadata": {},
   "outputs": [],
   "source": [
    "from sklearn.neighbors import KNeighborsClassifier"
   ]
  },
  {
   "cell_type": "code",
   "execution_count": 248,
   "metadata": {},
   "outputs": [],
   "source": [
    "@cross_validation\n",
    "def KNN(train_X, train_Y, test_X, test_Y, metric='accuracy', k=5):\n",
    "    knn = KNeighborsClassifier(n_neighbors=k)\n",
    "    knn.fit(train_X, train_Y)\n",
    "    return ScoreCalculation(knn, test_X, test_Y, metric=metric)"
   ]
  },
  {
   "cell_type": "markdown",
   "metadata": {},
   "source": [
    "**Define best hyperparametr k**"
   ]
  },
  {
   "cell_type": "code",
   "execution_count": 216,
   "metadata": {},
   "outputs": [
    {
     "name": "stderr",
     "output_type": "stream",
     "text": [
      "100%|██████████| 39/39 [00:26<00:00,  1.49it/s]\n"
     ]
    }
   ],
   "source": [
    "knn_scores = []\n",
    "for i in tqdm(range(1, 40)):\n",
    "    knn_scores.append({'k': i, 'accuracy': KNN(balanced=True, folds=4, metric='auc', k=i)})"
   ]
  },
  {
   "cell_type": "code",
   "execution_count": 217,
   "metadata": {},
   "outputs": [
    {
     "data": {
      "text/plain": [
       "[<matplotlib.lines.Line2D at 0x1f8b05fdb88>]"
      ]
     },
     "execution_count": 217,
     "metadata": {},
     "output_type": "execute_result"
    },
    {
     "data": {
      "image/png": "[encoded data removed]",
      "text/plain": [
       "<Figure size 432x288 with 1 Axes>"
      ]
     },
     "metadata": {
      "needs_background": "light"
     },
     "output_type": "display_data"
    }
   ],
   "source": [
    "plt.plot(list(map(lambda i: i['accuracy'], knn_scores)))"
   ]
  },
  {
   "cell_type": "code",
   "execution_count": 219,
   "metadata": {},
   "outputs": [
    {
     "name": "stdout",
     "output_type": "stream",
     "text": [
      "Best k-parametr is 17\n"
     ]
    }
   ],
   "source": [
    "print('Best k-parametr is', np.argmax(list(map(lambda i: i['accuracy'], knn_scores)))+knn_scores[0]['k'])"
   ]
  },
  {
   "cell_type": "markdown",
   "metadata": {},
   "source": [
    "**Saving knn model**"
   ]
  },
  {
   "cell_type": "code",
   "execution_count": 277,
   "metadata": {},
   "outputs": [],
   "source": [
    "import pickle"
   ]
  },
  {
   "cell_type": "code",
   "execution_count": 275,
   "metadata": {},
   "outputs": [],
   "source": [
    "X_, y_ = getNumpyData(balanced=True)"
   ]
  },
  {
   "cell_type": "code",
   "execution_count": 276,
   "metadata": {},
   "outputs": [],
   "source": [
    "filename_knn = 'knn_model.sav'\n",
    "filename_scaler = 'scaler_model.sav'"
   ]
  },
  {
   "cell_type": "code",
   "execution_count": 278,
   "metadata": {},
   "outputs": [
    {
     "data": {
      "text/plain": [
       "KNeighborsClassifier(n_neighbors=17)"
      ]
     },
     "execution_count": 278,
     "metadata": {},
     "output_type": "execute_result"
    }
   ],
   "source": [
    "knn = KNeighborsClassifier(n_neighbors=17)\n",
    "knn.fit(X_, y_)"
   ]
  },
  {
   "cell_type": "code",
   "execution_count": 279,
   "metadata": {},
   "outputs": [
    {
     "name": "stdout",
     "output_type": "stream",
     "text": [
      "              precision    recall  f1-score   support\n",
      "\n",
      "           0       0.56      0.49      0.52      3297\n",
      "           1       0.55      0.62      0.58      3297\n",
      "\n",
      "    accuracy                           0.56      6594\n",
      "   macro avg       0.56      0.56      0.55      6594\n",
      "weighted avg       0.56      0.56      0.55      6594\n",
      "\n",
      "0.5559599636032757\n"
     ]
    }
   ],
   "source": [
    "print(classification_report(y_, knn.predict(X_)))\n",
    "print(roc_auc_score(y_, knn.predict(X_)))"
   ]
  },
  {
   "cell_type": "code",
   "execution_count": 259,
   "metadata": {},
   "outputs": [],
   "source": [
    "pickle.dump(scaler, open(filename_scaler, 'wb'))\n",
    "pickle.dump(knn, open(filename_knn, 'wb'))"
   ]
  },
  {
   "cell_type": "markdown",
   "metadata": {},
   "source": [
    "### Logistic regression"
   ]
  },
  {
   "cell_type": "code",
   "execution_count": 260,
   "metadata": {},
   "outputs": [],
   "source": [
    "from sklearn.linear_model import LogisticRegression"
   ]
  },
  {
   "cell_type": "code",
   "execution_count": 261,
   "metadata": {},
   "outputs": [],
   "source": [
    "@cross_validation\n",
    "def LogReg(train_X, train_Y, test_X, test_Y, metric='accuracy'):\n",
    "    log_reg = LogisticRegression().fit(train_X, train_Y)\n",
    "    return ScoreCalculation(log_reg, test_X, test_Y, metric=metric)"
   ]
  },
  {
   "cell_type": "code",
   "execution_count": 262,
   "metadata": {},
   "outputs": [
    {
     "data": {
      "text/plain": [
       "0.5391798482416094"
      ]
     },
     "execution_count": 262,
     "metadata": {},
     "output_type": "execute_result"
    }
   ],
   "source": [
    "LogReg(balanced=True, folds=4, metric='auc')"
   ]
  },
  {
   "cell_type": "code",
   "execution_count": 288,
   "metadata": {},
   "outputs": [
    {
     "name": "stdout",
     "output_type": "stream",
     "text": [
      "Classification Report : \n",
      "              precision    recall  f1-score   support\n",
      "\n",
      "           0       0.55      0.41      0.47      3297\n",
      "           1       0.53      0.66      0.58      3297\n",
      "\n",
      "    accuracy                           0.53      6594\n",
      "   macro avg       0.54      0.53      0.53      6594\n",
      "weighted avg       0.54      0.53      0.53      6594\n",
      "\n",
      "AUC-ROC: 0.5344252350621777\n"
     ]
    }
   ],
   "source": [
    "log_reg = LogisticRegression().fit(X_, y_)\n",
    "print('Classification Report : ')\n",
    "print(classification_report(y_, log_reg.predict(X_)))\n",
    "print('AUC-ROC:',roc_auc_score(y_, log_reg.predict(X_)))"
   ]
  },
  {
   "cell_type": "markdown",
   "metadata": {},
   "source": [
    "### Random Forest"
   ]
  },
  {
   "cell_type": "code",
   "execution_count": 265,
   "metadata": {},
   "outputs": [],
   "source": [
    "from sklearn.ensemble import RandomForestClassifier\n",
    "@cross_validation\n",
    "def RandomForest(train_X, train_Y, test_X, test_Y, metric='accuracy',estim=50):\n",
    "    rfc = RandomForestClassifier(n_estimators=estim)\n",
    "    rfc.fit(train_X, train_Y)\n",
    "    return ScoreCalculation(rfc, test_X, test_Y, metric=metric)"
   ]
  },
  {
   "cell_type": "code",
   "execution_count": 268,
   "metadata": {},
   "outputs": [
    {
     "data": {
      "text/plain": [
       "0.5175834533176934"
      ]
     },
     "execution_count": 268,
     "metadata": {},
     "output_type": "execute_result"
    }
   ],
   "source": [
    "RandomForest(balanced=True, folds=4, metric='auc')"
   ]
  },
  {
   "cell_type": "code",
   "execution_count": 289,
   "metadata": {},
   "outputs": [
    {
     "name": "stdout",
     "output_type": "stream",
     "text": [
      "Classification Report : \n",
      "              precision    recall  f1-score   support\n",
      "\n",
      "           0       0.73      0.61      0.66      3297\n",
      "           1       0.66      0.77      0.71      3297\n",
      "\n",
      "    accuracy                           0.69      6594\n",
      "   macro avg       0.70      0.69      0.69      6594\n",
      "weighted avg       0.70      0.69      0.69      6594\n",
      "\n",
      "AUC-ROC: 0.6898695784046102\n"
     ]
    }
   ],
   "source": [
    "rfc = RandomForestClassifier(n_estimators=50).fit(X_, y_)\n",
    "\n",
    "print('Classification Report : ')\n",
    "print(classification_report(y_, rfc.predict(X_)))\n",
    "print('AUC-ROC:',roc_auc_score(y_, rfc.predict(X_)))"
   ]
  },
  {
   "cell_type": "code",
   "execution_count": 290,
   "metadata": {},
   "outputs": [],
   "source": [
    "filename_rfc = 'rfc_model.sav'\n",
    "pickle.dump(rfc, open(filename_rfc, 'wb'))"
   ]
  },
  {
   "cell_type": "markdown",
   "metadata": {},
   "source": [
    "### SVM"
   ]
  },
  {
   "cell_type": "code",
   "execution_count": 280,
   "metadata": {},
   "outputs": [],
   "source": [
    "from sklearn import svm\n",
    "\n",
    "@cross_validation\n",
    "def SVM_Classifier(train_X, train_Y, test_X, test_Y, metric='accuracy', kernel='rbf', C=1):\n",
    "    svm_c = svm.SVC(kernel=kernel, gamma='auto', C=C).fit(train_X, train_Y)\n",
    "#     print(classification_report(test_Y, svm_c.predict(test_X)))\n",
    "    return ScoreCalculation(svm_c, test_X, test_Y, metric=metric)"
   ]
  },
  {
   "cell_type": "code",
   "execution_count": 287,
   "metadata": {},
   "outputs": [
    {
     "data": {
      "text/plain": [
       "0.5280494658748219"
      ]
     },
     "execution_count": 287,
     "metadata": {},
     "output_type": "execute_result"
    }
   ],
   "source": [
    "SVM_Classifier(balanced=True, folds=4, C=1, metric='auc')"
   ]
  },
  {
   "cell_type": "code",
   "execution_count": 291,
   "metadata": {},
   "outputs": [
    {
     "name": "stdout",
     "output_type": "stream",
     "text": [
      "Classification Report : \n",
      "              precision    recall  f1-score   support\n",
      "\n",
      "           0       0.57      0.40      0.47      3297\n",
      "           1       0.54      0.69      0.60      3297\n",
      "\n",
      "    accuracy                           0.55      6594\n",
      "   macro avg       0.55      0.55      0.54      6594\n",
      "weighted avg       0.55      0.55      0.54      6594\n",
      "\n",
      "AUC-ROC: 0.5471640885653625\n"
     ]
    }
   ],
   "source": [
    "svm_c = svm.SVC(kernel='rbf', gamma='auto', C=1).fit(X_, y_)\n",
    "\n",
    "print('Classification Report : ')\n",
    "print(classification_report(y_, svm_c.predict(X_)))\n",
    "print('AUC-ROC:',roc_auc_score(y_, svm_c.predict(X_)))"
   ]
  },
  {
   "cell_type": "code",
   "execution_count": null,
   "metadata": {},
   "outputs": [],
   "source": []
  }
 ],
 "metadata": {
  "kernelspec": {
   "display_name": "Python 3",
   "language": "python",
   "name": "python3"
  },
  "language_info": {
   "codemirror_mode": {
    "name": "ipython",
    "version": 3
   },
   "file_extension": ".py",
   "mimetype": "text/x-python",
   "name": "python",
   "nbconvert_exporter": "python",
   "pygments_lexer": "ipython3",
   "version": "3.7.7"
  }
 },
 "nbformat": 4,
 "nbformat_minor": 4
}
