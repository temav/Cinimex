{
 "cells": [
  {
   "cell_type": "markdown",
   "metadata": {},
   "source": [
    "### Extract data from database"
   ]
  },
  {
   "cell_type": "code",
   "execution_count": 122,
   "metadata": {},
   "outputs": [],
   "source": [
    "import mariadb\n",
    "import pandas as pd\n",
    "import numpy as np\n",
    "import matplotlib.pyplot as plt\n",
    "%matplotlib inline"
   ]
  },
  {
   "cell_type": "markdown",
   "metadata": {},
   "source": [
    "**Connection to server**"
   ]
  },
  {
   "cell_type": "code",
   "execution_count": 2,
   "metadata": {},
   "outputs": [],
   "source": [
    "try:\n",
    "    conn = mariadb.connect(\n",
    "        user=\"guest\",\n",
    "        password=\"relational\",\n",
    "        host=\"relational.fit.cvut.cz\",\n",
    "        port=3306,\n",
    "        database=\"ftp\"\n",
    "    )\n",
    "except mariadb.Error as e:\n",
    "    print(f\"Error connecting to MariaDB Platform: {e}\")\n",
    "    sys.exit(1)\n",
    "\n",
    "# Get Cursor\n",
    "cur = conn.cursor()"
   ]
  },
  {
   "cell_type": "markdown",
   "metadata": {},
   "source": [
    "**Converting from sql result to pandas DataFrame**"
   ]
  },
  {
   "cell_type": "code",
   "execution_count": 3,
   "metadata": {},
   "outputs": [],
   "source": [
    "SQL_Query_session = pd.read_sql_query('''select * from session''', conn)\n",
    "SQL_Query_product = pd.read_sql_query('''select * from product''', conn)"
   ]
  },
  {
   "cell_type": "code",
   "execution_count": 4,
   "metadata": {},
   "outputs": [],
   "source": [
    "df_session = pd.DataFrame(SQL_Query_session)\n",
    "df_product = pd.DataFrame(SQL_Query_product)"
   ]
  },
  {
   "cell_type": "markdown",
   "metadata": {},
   "source": [
    "**Saving data in csv format**"
   ]
  },
  {
   "cell_type": "code",
   "execution_count": 5,
   "metadata": {},
   "outputs": [],
   "source": [
    "df_session.to_csv(r'C:\\Users\\Tema\\cinimex\\task_1\\data\\raw\\session_data.csv', index=False)\n",
    "df_product.to_csv(r'C:\\Users\\Tema\\cinimex\\task_1\\data\\raw\\product_data.csv', index=False)"
   ]
  },
  {
   "cell_type": "code",
   "execution_count": 6,
   "metadata": {},
   "outputs": [],
   "source": [
    "df_session = pd.read_csv(r'C:\\Users\\Tema\\cinimex\\task_1\\data\\raw\\session_data.csv')\n",
    "df_product = pd.read_csv(r'C:\\Users\\Tema\\cinimex\\task_1\\data\\raw\\product_data.csv')"
   ]
  },
  {
   "cell_type": "code",
   "execution_count": 19,
   "metadata": {},
   "outputs": [],
   "source": [
    "df_general = df_product.merge(df_session, on='session_id', validate='many_to_one')"
   ]
  },
  {
   "cell_type": "code",
   "execution_count": 20,
   "metadata": {},
   "outputs": [
    {
     "data": {
      "text/plain": [
       "array([42801, 10877,  9448,  1096,   877,   574,   266,   200,   138,\n",
       "         125,    89], dtype=int64)"
      ]
     },
     "execution_count": 20,
     "metadata": {},
     "output_type": "execute_result"
    }
   ],
   "source": [
    "df_general['category_a'].value_counts().values"
   ]
  },
  {
   "cell_type": "markdown",
   "metadata": {},
   "source": [
    "**Review raw data**"
   ]
  },
  {
   "cell_type": "code",
   "execution_count": 21,
   "metadata": {},
   "outputs": [
    {
     "data": {
      "text/html": [
       "<div>\n",
       "<style scoped>\n",
       "    .dataframe tbody tr th:only-of-type {\n",
       "        vertical-align: middle;\n",
       "    }\n",
       "\n",
       "    .dataframe tbody tr th {\n",
       "        vertical-align: top;\n",
       "    }\n",
       "\n",
       "    .dataframe thead th {\n",
       "        text-align: right;\n",
       "    }\n",
       "</style>\n",
       "<table border=\"1\" class=\"dataframe\">\n",
       "  <thead>\n",
       "    <tr style=\"text-align: right;\">\n",
       "      <th></th>\n",
       "      <th>session_id</th>\n",
       "      <th>sequence_order</th>\n",
       "      <th>category_a</th>\n",
       "      <th>category_b</th>\n",
       "      <th>category_c</th>\n",
       "      <th>category_d</th>\n",
       "      <th>start_time</th>\n",
       "      <th>end_time</th>\n",
       "      <th>gender</th>\n",
       "    </tr>\n",
       "  </thead>\n",
       "  <tbody>\n",
       "    <tr>\n",
       "      <th>0</th>\n",
       "      <td>u10001</td>\n",
       "      <td>1</td>\n",
       "      <td>A00001</td>\n",
       "      <td>B00001</td>\n",
       "      <td>C00001</td>\n",
       "      <td>D00001</td>\n",
       "      <td>2014-11-14 00:02:14</td>\n",
       "      <td>2014-11-14 00:02:20</td>\n",
       "      <td>female</td>\n",
       "    </tr>\n",
       "    <tr>\n",
       "      <th>1</th>\n",
       "      <td>u10002</td>\n",
       "      <td>1</td>\n",
       "      <td>A00002</td>\n",
       "      <td>B00002</td>\n",
       "      <td>C00002</td>\n",
       "      <td>D24897</td>\n",
       "      <td>2014-12-12 14:12:05</td>\n",
       "      <td>2014-12-12 14:12:06</td>\n",
       "      <td>female</td>\n",
       "    </tr>\n",
       "    <tr>\n",
       "      <th>2</th>\n",
       "      <td>u10003</td>\n",
       "      <td>1</td>\n",
       "      <td>A00002</td>\n",
       "      <td>B00002</td>\n",
       "      <td>C00002</td>\n",
       "      <td>D00002</td>\n",
       "      <td>2014-11-14 00:02:41</td>\n",
       "      <td>2014-11-14 00:16:40</td>\n",
       "      <td>female</td>\n",
       "    </tr>\n",
       "    <tr>\n",
       "      <th>3</th>\n",
       "      <td>u10003</td>\n",
       "      <td>2</td>\n",
       "      <td>A00002</td>\n",
       "      <td>B00002</td>\n",
       "      <td>C00003</td>\n",
       "      <td>D00003</td>\n",
       "      <td>2014-11-14 00:02:41</td>\n",
       "      <td>2014-11-14 00:16:40</td>\n",
       "      <td>female</td>\n",
       "    </tr>\n",
       "    <tr>\n",
       "      <th>4</th>\n",
       "      <td>u10003</td>\n",
       "      <td>3</td>\n",
       "      <td>A00002</td>\n",
       "      <td>B00002</td>\n",
       "      <td>C00007</td>\n",
       "      <td>D00007</td>\n",
       "      <td>2014-11-14 00:02:41</td>\n",
       "      <td>2014-11-14 00:16:40</td>\n",
       "      <td>female</td>\n",
       "    </tr>\n",
       "  </tbody>\n",
       "</table>\n",
       "</div>"
      ],
      "text/plain": [
       "  session_id  sequence_order category_a category_b category_c category_d  \\\n",
       "0     u10001               1     A00001     B00001     C00001     D00001   \n",
       "1     u10002               1     A00002     B00002     C00002     D24897   \n",
       "2     u10003               1     A00002     B00002     C00002     D00002   \n",
       "3     u10003               2     A00002     B00002     C00003     D00003   \n",
       "4     u10003               3     A00002     B00002     C00007     D00007   \n",
       "\n",
       "            start_time             end_time  gender  \n",
       "0  2014-11-14 00:02:14  2014-11-14 00:02:20  female  \n",
       "1  2014-12-12 14:12:05  2014-12-12 14:12:06  female  \n",
       "2  2014-11-14 00:02:41  2014-11-14 00:16:40  female  \n",
       "3  2014-11-14 00:02:41  2014-11-14 00:16:40  female  \n",
       "4  2014-11-14 00:02:41  2014-11-14 00:16:40  female  "
      ]
     },
     "execution_count": 21,
     "metadata": {},
     "output_type": "execute_result"
    }
   ],
   "source": [
    "df_general.head()"
   ]
  },
  {
   "cell_type": "code",
   "execution_count": 22,
   "metadata": {},
   "outputs": [
    {
     "name": "stdout",
     "output_type": "stream",
     "text": [
      "<class 'pandas.core.frame.DataFrame'>\n",
      "Int64Index: 66491 entries, 0 to 66490\n",
      "Data columns (total 9 columns):\n",
      " #   Column          Non-Null Count  Dtype \n",
      "---  ------          --------------  ----- \n",
      " 0   session_id      66491 non-null  object\n",
      " 1   sequence_order  66491 non-null  int64 \n",
      " 2   category_a      66491 non-null  object\n",
      " 3   category_b      66491 non-null  object\n",
      " 4   category_c      66491 non-null  object\n",
      " 5   category_d      66491 non-null  object\n",
      " 6   start_time      66491 non-null  object\n",
      " 7   end_time        66491 non-null  object\n",
      " 8   gender          33455 non-null  object\n",
      "dtypes: int64(1), object(8)\n",
      "memory usage: 5.1+ MB\n"
     ]
    }
   ],
   "source": [
    "df_general.info()"
   ]
  },
  {
   "cell_type": "code",
   "execution_count": 23,
   "metadata": {},
   "outputs": [
    {
     "data": {
      "text/html": [
       "<div>\n",
       "<style scoped>\n",
       "    .dataframe tbody tr th:only-of-type {\n",
       "        vertical-align: middle;\n",
       "    }\n",
       "\n",
       "    .dataframe tbody tr th {\n",
       "        vertical-align: top;\n",
       "    }\n",
       "\n",
       "    .dataframe thead th {\n",
       "        text-align: right;\n",
       "    }\n",
       "</style>\n",
       "<table border=\"1\" class=\"dataframe\">\n",
       "  <thead>\n",
       "    <tr style=\"text-align: right;\">\n",
       "      <th></th>\n",
       "      <th>session_id</th>\n",
       "      <th>sequence_order</th>\n",
       "      <th>category_a</th>\n",
       "      <th>category_b</th>\n",
       "      <th>category_c</th>\n",
       "      <th>category_d</th>\n",
       "      <th>start_time</th>\n",
       "      <th>end_time</th>\n",
       "    </tr>\n",
       "    <tr>\n",
       "      <th>gender</th>\n",
       "      <th></th>\n",
       "      <th></th>\n",
       "      <th></th>\n",
       "      <th></th>\n",
       "      <th></th>\n",
       "      <th></th>\n",
       "      <th></th>\n",
       "      <th></th>\n",
       "    </tr>\n",
       "  </thead>\n",
       "  <tbody>\n",
       "    <tr>\n",
       "      <th>female</th>\n",
       "      <td>26384</td>\n",
       "      <td>26384</td>\n",
       "      <td>26384</td>\n",
       "      <td>26384</td>\n",
       "      <td>26384</td>\n",
       "      <td>26384</td>\n",
       "      <td>26384</td>\n",
       "      <td>26384</td>\n",
       "    </tr>\n",
       "    <tr>\n",
       "      <th>male</th>\n",
       "      <td>7071</td>\n",
       "      <td>7071</td>\n",
       "      <td>7071</td>\n",
       "      <td>7071</td>\n",
       "      <td>7071</td>\n",
       "      <td>7071</td>\n",
       "      <td>7071</td>\n",
       "      <td>7071</td>\n",
       "    </tr>\n",
       "  </tbody>\n",
       "</table>\n",
       "</div>"
      ],
      "text/plain": [
       "        session_id  sequence_order  category_a  category_b  category_c  \\\n",
       "gender                                                                   \n",
       "female       26384           26384       26384       26384       26384   \n",
       "male          7071            7071        7071        7071        7071   \n",
       "\n",
       "        category_d  start_time  end_time  \n",
       "gender                                    \n",
       "female       26384       26384     26384  \n",
       "male          7071        7071      7071  "
      ]
     },
     "execution_count": 23,
     "metadata": {},
     "output_type": "execute_result"
    }
   ],
   "source": [
    "df_general.groupby('gender').count()"
   ]
  },
  {
   "cell_type": "code",
   "execution_count": 25,
   "metadata": {},
   "outputs": [
    {
     "data": {
      "text/plain": [
       "11"
      ]
     },
     "execution_count": 25,
     "metadata": {},
     "output_type": "execute_result"
    }
   ],
   "source": [
    "df_general['category_a'].nunique()"
   ]
  },
  {
   "cell_type": "markdown",
   "metadata": {},
   "source": [
    "## Processing data\n",
    "\n",
    "*-select essential columns*\n",
    "\n",
    "*-create new features*"
   ]
  },
  {
   "cell_type": "code",
   "execution_count": 26,
   "metadata": {},
   "outputs": [],
   "source": [
    "df_gen_train = df_general.dropna()"
   ]
  },
  {
   "cell_type": "code",
   "execution_count": 27,
   "metadata": {},
   "outputs": [
    {
     "name": "stdout",
     "output_type": "stream",
     "text": [
      "<class 'pandas.core.frame.DataFrame'>\n",
      "Int64Index: 33455 entries, 0 to 33454\n",
      "Data columns (total 9 columns):\n",
      " #   Column          Non-Null Count  Dtype \n",
      "---  ------          --------------  ----- \n",
      " 0   session_id      33455 non-null  object\n",
      " 1   sequence_order  33455 non-null  int64 \n",
      " 2   category_a      33455 non-null  object\n",
      " 3   category_b      33455 non-null  object\n",
      " 4   category_c      33455 non-null  object\n",
      " 5   category_d      33455 non-null  object\n",
      " 6   start_time      33455 non-null  object\n",
      " 7   end_time        33455 non-null  object\n",
      " 8   gender          33455 non-null  object\n",
      "dtypes: int64(1), object(8)\n",
      "memory usage: 2.6+ MB\n"
     ]
    }
   ],
   "source": [
    "df_gen_train.info()"
   ]
  },
  {
   "cell_type": "code",
   "execution_count": 35,
   "metadata": {},
   "outputs": [
    {
     "name": "stderr",
     "output_type": "stream",
     "text": [
      "C:\\Users\\Tema\\anaconda3\\envs\\cinimex\\lib\\site-packages\\ipykernel_launcher.py:4: SettingWithCopyWarning: \n",
      "A value is trying to be set on a copy of a slice from a DataFrame.\n",
      "Try using .loc[row_indexer,col_indexer] = value instead\n",
      "\n",
      "See the caveats in the documentation: https://pandas.pydata.org/pandas-docs/stable/user_guide/indexing.html#returning-a-view-versus-a-copy\n",
      "  after removing the cwd from sys.path.\n"
     ]
    },
    {
     "data": {
      "text/html": [
       "<div>\n",
       "<style scoped>\n",
       "    .dataframe tbody tr th:only-of-type {\n",
       "        vertical-align: middle;\n",
       "    }\n",
       "\n",
       "    .dataframe tbody tr th {\n",
       "        vertical-align: top;\n",
       "    }\n",
       "\n",
       "    .dataframe thead th {\n",
       "        text-align: right;\n",
       "    }\n",
       "</style>\n",
       "<table border=\"1\" class=\"dataframe\">\n",
       "  <thead>\n",
       "    <tr style=\"text-align: right;\">\n",
       "      <th></th>\n",
       "      <th>session_id</th>\n",
       "      <th>sequence_order</th>\n",
       "      <th>category_a</th>\n",
       "      <th>category_b</th>\n",
       "      <th>category_c</th>\n",
       "      <th>category_d</th>\n",
       "      <th>start_time</th>\n",
       "      <th>end_time</th>\n",
       "      <th>gender</th>\n",
       "      <th>duration</th>\n",
       "    </tr>\n",
       "  </thead>\n",
       "  <tbody>\n",
       "    <tr>\n",
       "      <th>0</th>\n",
       "      <td>u10001</td>\n",
       "      <td>1.0</td>\n",
       "      <td>A00001</td>\n",
       "      <td>B00001</td>\n",
       "      <td>C00001</td>\n",
       "      <td>D00001</td>\n",
       "      <td>2014-11-14 00:02:14</td>\n",
       "      <td>2014-11-14 00:02:20</td>\n",
       "      <td>female</td>\n",
       "      <td>0.100000</td>\n",
       "    </tr>\n",
       "    <tr>\n",
       "      <th>1</th>\n",
       "      <td>u10002</td>\n",
       "      <td>1.0</td>\n",
       "      <td>A00002</td>\n",
       "      <td>B00002</td>\n",
       "      <td>C00002</td>\n",
       "      <td>D24897</td>\n",
       "      <td>2014-12-12 14:12:05</td>\n",
       "      <td>2014-12-12 14:12:06</td>\n",
       "      <td>female</td>\n",
       "      <td>0.016667</td>\n",
       "    </tr>\n",
       "    <tr>\n",
       "      <th>2</th>\n",
       "      <td>u10003</td>\n",
       "      <td>1.0</td>\n",
       "      <td>A00002</td>\n",
       "      <td>B00002</td>\n",
       "      <td>C00002</td>\n",
       "      <td>D00002</td>\n",
       "      <td>2014-11-14 00:02:41</td>\n",
       "      <td>2014-11-14 00:16:40</td>\n",
       "      <td>female</td>\n",
       "      <td>13.983333</td>\n",
       "    </tr>\n",
       "    <tr>\n",
       "      <th>3</th>\n",
       "      <td>u10003</td>\n",
       "      <td>2.0</td>\n",
       "      <td>A00002</td>\n",
       "      <td>B00002</td>\n",
       "      <td>C00003</td>\n",
       "      <td>D00003</td>\n",
       "      <td>2014-11-14 00:02:41</td>\n",
       "      <td>2014-11-14 00:16:40</td>\n",
       "      <td>female</td>\n",
       "      <td>13.983333</td>\n",
       "    </tr>\n",
       "    <tr>\n",
       "      <th>4</th>\n",
       "      <td>u10003</td>\n",
       "      <td>3.0</td>\n",
       "      <td>A00002</td>\n",
       "      <td>B00002</td>\n",
       "      <td>C00007</td>\n",
       "      <td>D00007</td>\n",
       "      <td>2014-11-14 00:02:41</td>\n",
       "      <td>2014-11-14 00:16:40</td>\n",
       "      <td>female</td>\n",
       "      <td>13.983333</td>\n",
       "    </tr>\n",
       "  </tbody>\n",
       "</table>\n",
       "</div>"
      ],
      "text/plain": [
       "  session_id  sequence_order category_a category_b category_c category_d  \\\n",
       "0     u10001             1.0     A00001     B00001     C00001     D00001   \n",
       "1     u10002             1.0     A00002     B00002     C00002     D24897   \n",
       "2     u10003             1.0     A00002     B00002     C00002     D00002   \n",
       "3     u10003             2.0     A00002     B00002     C00003     D00003   \n",
       "4     u10003             3.0     A00002     B00002     C00007     D00007   \n",
       "\n",
       "            start_time             end_time  gender   duration  \n",
       "0  2014-11-14 00:02:14  2014-11-14 00:02:20  female   0.100000  \n",
       "1  2014-12-12 14:12:05  2014-12-12 14:12:06  female   0.016667  \n",
       "2  2014-11-14 00:02:41  2014-11-14 00:16:40  female  13.983333  \n",
       "3  2014-11-14 00:02:41  2014-11-14 00:16:40  female  13.983333  \n",
       "4  2014-11-14 00:02:41  2014-11-14 00:16:40  female  13.983333  "
      ]
     },
     "execution_count": 35,
     "metadata": {},
     "output_type": "execute_result"
    }
   ],
   "source": [
    "duration = (pd.to_datetime(df_gen_train['end_time'])-\n",
    "                            pd.to_datetime(df_gen_train['start_time'])).apply(lambda i: \n",
    "                                                                              i.total_seconds() / 60.0)\n",
    "df_gen_train['duration'] = duration\n",
    "df_gen_train.head()"
   ]
  },
  {
   "cell_type": "code",
   "execution_count": 66,
   "metadata": {},
   "outputs": [],
   "source": [
    "df_orders = df_gen_train.groupby('session_id')\\\n",
    "                        .nunique()\\\n",
    "                        .drop(labels=['start_time', 'end_time', 'gender',\n",
    "                                      'duration', 'sequence_order'], axis=1)\n",
    "df_duration = df_gen_train.groupby('session_id').mean()['duration']"
   ]
  },
  {
   "cell_type": "markdown",
   "metadata": {},
   "source": [
    "**Merging data of categories's view and session's duration**"
   ]
  },
  {
   "cell_type": "code",
   "execution_count": 68,
   "metadata": {},
   "outputs": [
    {
     "data": {
      "text/html": [
       "<div>\n",
       "<style scoped>\n",
       "    .dataframe tbody tr th:only-of-type {\n",
       "        vertical-align: middle;\n",
       "    }\n",
       "\n",
       "    .dataframe tbody tr th {\n",
       "        vertical-align: top;\n",
       "    }\n",
       "\n",
       "    .dataframe thead th {\n",
       "        text-align: right;\n",
       "    }\n",
       "</style>\n",
       "<table border=\"1\" class=\"dataframe\">\n",
       "  <thead>\n",
       "    <tr style=\"text-align: right;\">\n",
       "      <th></th>\n",
       "      <th>session_id</th>\n",
       "      <th>category_a</th>\n",
       "      <th>category_b</th>\n",
       "      <th>category_c</th>\n",
       "      <th>category_d</th>\n",
       "      <th>duration</th>\n",
       "      <th>gender</th>\n",
       "    </tr>\n",
       "  </thead>\n",
       "  <tbody>\n",
       "    <tr>\n",
       "      <th>0</th>\n",
       "      <td>u10001</td>\n",
       "      <td>1</td>\n",
       "      <td>1</td>\n",
       "      <td>1</td>\n",
       "      <td>1</td>\n",
       "      <td>0.100000</td>\n",
       "      <td>female</td>\n",
       "    </tr>\n",
       "    <tr>\n",
       "      <th>1</th>\n",
       "      <td>u10002</td>\n",
       "      <td>1</td>\n",
       "      <td>1</td>\n",
       "      <td>1</td>\n",
       "      <td>1</td>\n",
       "      <td>0.016667</td>\n",
       "      <td>female</td>\n",
       "    </tr>\n",
       "    <tr>\n",
       "      <th>2</th>\n",
       "      <td>u10003</td>\n",
       "      <td>1</td>\n",
       "      <td>1</td>\n",
       "      <td>6</td>\n",
       "      <td>12</td>\n",
       "      <td>13.983333</td>\n",
       "      <td>female</td>\n",
       "    </tr>\n",
       "    <tr>\n",
       "      <th>3</th>\n",
       "      <td>u10004</td>\n",
       "      <td>1</td>\n",
       "      <td>1</td>\n",
       "      <td>1</td>\n",
       "      <td>1</td>\n",
       "      <td>0.033333</td>\n",
       "      <td>female</td>\n",
       "    </tr>\n",
       "    <tr>\n",
       "      <th>4</th>\n",
       "      <td>u10005</td>\n",
       "      <td>1</td>\n",
       "      <td>1</td>\n",
       "      <td>2</td>\n",
       "      <td>3</td>\n",
       "      <td>3.283333</td>\n",
       "      <td>female</td>\n",
       "    </tr>\n",
       "  </tbody>\n",
       "</table>\n",
       "</div>"
      ],
      "text/plain": [
       "  session_id  category_a  category_b  category_c  category_d   duration  \\\n",
       "0     u10001           1           1           1           1   0.100000   \n",
       "1     u10002           1           1           1           1   0.016667   \n",
       "2     u10003           1           1           6          12  13.983333   \n",
       "3     u10004           1           1           1           1   0.033333   \n",
       "4     u10005           1           1           2           3   3.283333   \n",
       "\n",
       "   gender  \n",
       "0  female  \n",
       "1  female  \n",
       "2  female  \n",
       "3  female  \n",
       "4  female  "
      ]
     },
     "execution_count": 68,
     "metadata": {},
     "output_type": "execute_result"
    }
   ],
   "source": [
    "df_final = df_orders.merge(df_duration, on='session_id')\n",
    "df_final = df_final.merge(df_gen_train[['session_id','gender']]\\\n",
    "                          .drop_duplicates(), on='session_id')\n",
    "df_final.head()"
   ]
  },
  {
   "cell_type": "code",
   "execution_count": 69,
   "metadata": {},
   "outputs": [
    {
     "data": {
      "text/plain": [
       "array([0, 0, 0, ..., 0, 0, 1])"
      ]
     },
     "execution_count": 69,
     "metadata": {},
     "output_type": "execute_result"
    }
   ],
   "source": [
    "from sklearn.preprocessing import LabelEncoder\n",
    "labelencoder = LabelEncoder()\n",
    "data_y = labelencoder.fit_transform(df_final['gender'])\n",
    "data_y"
   ]
  },
  {
   "cell_type": "code",
   "execution_count": 70,
   "metadata": {},
   "outputs": [],
   "source": [
    "data_x = np.array(df_final.drop(columns=['gender','session_id']))"
   ]
  },
  {
   "cell_type": "code",
   "execution_count": 241,
   "metadata": {},
   "outputs": [],
   "source": [
    "shuff_indexes = np.arange(data_y.shape[0])\n",
    "np.random.shuffle(shuff_indexes)"
   ]
  },
  {
   "cell_type": "code",
   "execution_count": 242,
   "metadata": {},
   "outputs": [],
   "source": [
    "X_, y_ = data_x[shuff_indexes], data_y[shuff_indexes]"
   ]
  },
  {
   "cell_type": "code",
   "execution_count": 243,
   "metadata": {},
   "outputs": [],
   "source": [
    "from sklearn.preprocessing import StandardScaler"
   ]
  },
  {
   "cell_type": "code",
   "execution_count": 244,
   "metadata": {},
   "outputs": [],
   "source": [
    "def cross_validation(func):\n",
    "    def wrapper(X, y, folds, *args):\n",
    "        scaler = StandardScaler().fit(X)\n",
    "        X = scaler.transform(X)\n",
    "        size = X.shape[0]/folds\n",
    "        score = []\n",
    "\n",
    "        for i in range(1, folds):\n",
    "            index_prev = int(size*i)\n",
    "            index_next = int(size*(i+1))\n",
    "            train_X, test_X = np.concatenate((X[:index_prev], X[index_next:])), X[index_prev:index_next]\n",
    "            train_Y, test_Y = np.concatenate((y[:index_prev], y[index_next:])), y[index_prev:index_next]\n",
    "            score.append(func(train_X,train_Y, test_X, test_Y, *args))\n",
    "        return np.array(score).mean()\n",
    "    return wrapper"
   ]
  },
  {
   "cell_type": "markdown",
   "metadata": {},
   "source": [
    "### Knn classifier"
   ]
  },
  {
   "cell_type": "code",
   "execution_count": 245,
   "metadata": {},
   "outputs": [],
   "source": [
    "from tqdm import tqdm\n",
    "from sklearn.neighbors import KNeighborsClassifier"
   ]
  },
  {
   "cell_type": "code",
   "execution_count": 246,
   "metadata": {},
   "outputs": [],
   "source": [
    "@cross_validation\n",
    "def KNN(train_X, train_Y, test_X, test_Y, metric='accuracy', k=5):\n",
    "    knn = KNeighborsClassifier(n_neighbors=k)\n",
    "    knn.fit(train_X, train_Y)\n",
    "    if (metric == 'accuracy'):\n",
    "        return knn.score(test_X, test_Y)\n",
    "    elif (metric == 'auc'):\n",
    "        return roc_auc_score(knn.predict(test_X), test_Y)"
   ]
  },
  {
   "cell_type": "markdown",
   "metadata": {},
   "source": [
    "**Define best hyperparametr k**"
   ]
  },
  {
   "cell_type": "code",
   "execution_count": 247,
   "metadata": {},
   "outputs": [
    {
     "name": "stderr",
     "output_type": "stream",
     "text": [
      "100%|██████████| 39/39 [01:10<00:00,  1.82s/it]\n"
     ]
    }
   ],
   "source": [
    "knn_scores = []\n",
    "for i in tqdm(range(1, 40)):\n",
    "    knn_scores.append({'k': i, 'accuracy': KNN(X_, y_, 4, 'auc',i)})"
   ]
  },
  {
   "cell_type": "code",
   "execution_count": 248,
   "metadata": {},
   "outputs": [
    {
     "data": {
      "text/plain": [
       "[<matplotlib.lines.Line2D at 0x2778b0ef808>]"
      ]
     },
     "execution_count": 248,
     "metadata": {},
     "output_type": "execute_result"
    },
    {
     "data": {
      "image/png": "[encoded data removed]",
      "text/plain": [
       "<Figure size 432x288 with 1 Axes>"
      ]
     },
     "metadata": {
      "needs_background": "light"
     },
     "output_type": "display_data"
    }
   ],
   "source": [
    "plt.plot(list(map(lambda i: i['accuracy'], knn_scores)))"
   ]
  },
  {
   "cell_type": "code",
   "execution_count": 249,
   "metadata": {},
   "outputs": [
    {
     "name": "stdout",
     "output_type": "stream",
     "text": [
      "Best k-parametr is 34\n"
     ]
    }
   ],
   "source": [
    "print('Best k-parametr is', np.argmax(list(map(lambda i: i['accuracy'], knn_scores)))+1)"
   ]
  },
  {
   "cell_type": "markdown",
   "metadata": {},
   "source": [
    "**Saving knn model**"
   ]
  },
  {
   "cell_type": "code",
   "execution_count": 250,
   "metadata": {},
   "outputs": [],
   "source": [
    "scaler = StandardScaler().fit(X_)\n",
    "\n",
    "X__ = scaler.transform(X_)"
   ]
  },
  {
   "cell_type": "code",
   "execution_count": 251,
   "metadata": {},
   "outputs": [],
   "source": [
    "import pickle\n",
    "filename_knn = 'knn_model.sav'\n",
    "filename_scaler = 'scaler_model.sav'"
   ]
  },
  {
   "cell_type": "code",
   "execution_count": 252,
   "metadata": {},
   "outputs": [
    {
     "data": {
      "text/plain": [
       "KNeighborsClassifier(n_neighbors=34)"
      ]
     },
     "execution_count": 252,
     "metadata": {},
     "output_type": "execute_result"
    }
   ],
   "source": [
    "from sklearn.neighbors import KNeighborsClassifier\n",
    "\n",
    "knn = KNeighborsClassifier(n_neighbors=34)\n",
    "knn.fit(X__, y_)\n",
    "# scores.append(neigh.score(test_scal, test_YYY))"
   ]
  },
  {
   "cell_type": "code",
   "execution_count": 253,
   "metadata": {},
   "outputs": [
    {
     "name": "stdout",
     "output_type": "stream",
     "text": [
      "              precision    recall  f1-score   support\n",
      "\n",
      "           0       0.78      1.00      0.88     11703\n",
      "           1       0.55      0.01      0.01      3297\n",
      "\n",
      "    accuracy                           0.78     15000\n",
      "   macro avg       0.67      0.50      0.44     15000\n",
      "weighted avg       0.73      0.78      0.69     15000\n",
      "\n"
     ]
    }
   ],
   "source": [
    "print(classification_report(y_, knn.predict(X__)))"
   ]
  },
  {
   "cell_type": "code",
   "execution_count": 254,
   "metadata": {},
   "outputs": [],
   "source": [
    "pickle.dump(scaler, open(filename_scaler, 'wb'))\n",
    "pickle.dump(knn, open(filename_knn, 'wb'))"
   ]
  },
  {
   "cell_type": "markdown",
   "metadata": {},
   "source": [
    "### Logistic regression"
   ]
  },
  {
   "cell_type": "code",
   "execution_count": 192,
   "metadata": {},
   "outputs": [],
   "source": [
    "from sklearn.linear_model import LogisticRegression"
   ]
  },
  {
   "cell_type": "code",
   "execution_count": 200,
   "metadata": {},
   "outputs": [],
   "source": [
    "# clf = LogisticRegression(random_state=0).fit(X, y)\n",
    "@cross_validation\n",
    "def LogReg(train_X, train_Y, test_X, test_Y):\n",
    "    log_reg = LogisticRegression().fit(train_X, train_Y)\n",
    "    return log_reg.score(test_X, test_Y)"
   ]
  },
  {
   "cell_type": "code",
   "execution_count": 201,
   "metadata": {},
   "outputs": [
    {
     "data": {
      "text/plain": [
       "0.781"
      ]
     },
     "execution_count": 201,
     "metadata": {},
     "output_type": "execute_result"
    }
   ],
   "source": [
    "LogReg(X, y, 5)"
   ]
  },
  {
   "cell_type": "code",
   "execution_count": 206,
   "metadata": {},
   "outputs": [],
   "source": [
    "log_reg = LogisticRegression().fit(X__[:int(X.shape[0]*0.75)], y[:int(X.shape[0]*0.75)])"
   ]
  },
  {
   "cell_type": "code",
   "execution_count": 212,
   "metadata": {},
   "outputs": [
    {
     "data": {
      "text/plain": [
       "0"
      ]
     },
     "execution_count": 212,
     "metadata": {},
     "output_type": "execute_result"
    }
   ],
   "source": [
    "np.sum(log_reg.predict(X__[int(X.shape[0]*0.75):])==1)"
   ]
  },
  {
   "cell_type": "code",
   "execution_count": 215,
   "metadata": {},
   "outputs": [
    {
     "ename": "NameError",
     "evalue": "name 'roc_curve' is not defined",
     "output_type": "error",
     "traceback": [
      "\u001b[1;31m---------------------------------------------------------------------------\u001b[0m",
      "\u001b[1;31mNameError\u001b[0m                                 Traceback (most recent call last)",
      "\u001b[1;32m<ipython-input-215-c9295458f1d8>\u001b[0m in \u001b[0;36m<module>\u001b[1;34m\u001b[0m\n\u001b[0;32m      5\u001b[0m \u001b[1;33m\u001b[0m\u001b[0m\n\u001b[0;32m      6\u001b[0m \u001b[0mplt\u001b[0m\u001b[1;33m.\u001b[0m\u001b[0mfigure\u001b[0m\u001b[1;33m(\u001b[0m\u001b[0mfigsize\u001b[0m\u001b[1;33m=\u001b[0m\u001b[1;33m(\u001b[0m\u001b[1;36m10\u001b[0m\u001b[1;33m,\u001b[0m \u001b[1;36m8\u001b[0m\u001b[1;33m)\u001b[0m\u001b[1;33m)\u001b[0m\u001b[1;33m\u001b[0m\u001b[1;33m\u001b[0m\u001b[0m\n\u001b[1;32m----> 7\u001b[1;33m \u001b[0mfpr\u001b[0m\u001b[1;33m,\u001b[0m \u001b[0mtpr\u001b[0m\u001b[1;33m,\u001b[0m \u001b[0mthresholds\u001b[0m \u001b[1;33m=\u001b[0m \u001b[0mroc_curve\u001b[0m\u001b[1;33m(\u001b[0m\u001b[0my\u001b[0m\u001b[1;33m[\u001b[0m\u001b[0mint\u001b[0m\u001b[1;33m(\u001b[0m\u001b[0mX\u001b[0m\u001b[1;33m.\u001b[0m\u001b[0mshape\u001b[0m\u001b[1;33m[\u001b[0m\u001b[1;36m0\u001b[0m\u001b[1;33m]\u001b[0m\u001b[1;33m*\u001b[0m\u001b[1;36m0.75\u001b[0m\u001b[1;33m)\u001b[0m\u001b[1;33m:\u001b[0m\u001b[1;33m]\u001b[0m\u001b[1;33m,\u001b[0m \u001b[0mlog_reg\u001b[0m\u001b[1;33m.\u001b[0m\u001b[0mpredict_proba\u001b[0m\u001b[1;33m(\u001b[0m\u001b[0mX__\u001b[0m\u001b[1;33m[\u001b[0m\u001b[0mint\u001b[0m\u001b[1;33m(\u001b[0m\u001b[0mX\u001b[0m\u001b[1;33m.\u001b[0m\u001b[0mshape\u001b[0m\u001b[1;33m[\u001b[0m\u001b[1;36m0\u001b[0m\u001b[1;33m]\u001b[0m\u001b[1;33m*\u001b[0m\u001b[1;36m0.75\u001b[0m\u001b[1;33m)\u001b[0m\u001b[1;33m:\u001b[0m\u001b[1;33m]\u001b[0m\u001b[1;33m)\u001b[0m\u001b[1;33m[\u001b[0m\u001b[1;33m:\u001b[0m\u001b[1;33m,\u001b[0m\u001b[1;36m1\u001b[0m\u001b[1;33m]\u001b[0m\u001b[1;33m,\u001b[0m \u001b[0mpos_label\u001b[0m\u001b[1;33m=\u001b[0m\u001b[1;36m1\u001b[0m\u001b[1;33m)\u001b[0m\u001b[1;33m\u001b[0m\u001b[1;33m\u001b[0m\u001b[0m\n\u001b[0m\u001b[0;32m      8\u001b[0m \u001b[0mlw\u001b[0m \u001b[1;33m=\u001b[0m \u001b[1;36m2\u001b[0m\u001b[1;33m\u001b[0m\u001b[1;33m\u001b[0m\u001b[0m\n\u001b[0;32m      9\u001b[0m \u001b[0mplt\u001b[0m\u001b[1;33m.\u001b[0m\u001b[0mplot\u001b[0m\u001b[1;33m(\u001b[0m\u001b[0mfpr\u001b[0m\u001b[1;33m,\u001b[0m \u001b[0mtpr\u001b[0m\u001b[1;33m,\u001b[0m \u001b[0mlw\u001b[0m\u001b[1;33m=\u001b[0m\u001b[0mlw\u001b[0m\u001b[1;33m,\u001b[0m \u001b[0mlabel\u001b[0m\u001b[1;33m=\u001b[0m\u001b[1;34m'ROC curve '\u001b[0m\u001b[1;33m)\u001b[0m\u001b[1;33m\u001b[0m\u001b[1;33m\u001b[0m\u001b[0m\n",
      "\u001b[1;31mNameError\u001b[0m: name 'roc_curve' is not defined"
     ]
    },
    {
     "data": {
      "text/plain": [
       "<Figure size 720x576 with 0 Axes>"
      ]
     },
     "metadata": {},
     "output_type": "display_data"
    }
   ],
   "source": [
    "# import seaborn as sns\n",
    "\n",
    "# sns.set(font_scale=1.5)\n",
    "# sns.set_color_codes(\"muted\")\n",
    "\n",
    "plt.figure(figsize=(10, 8))\n",
    "fpr, tpr, thresholds = roc_curve(y[int(X.shape[0]*0.75):], log_reg.predict_proba(X__[int(X.shape[0]*0.75):])[:,1], pos_label=1)\n",
    "lw = 2\n",
    "plt.plot(fpr, tpr, lw=lw, label='ROC curve ')\n",
    "plt.plot([0, 1], [0, 1])\n",
    "plt.xlim([0.0, 1.0])\n",
    "plt.ylim([0.0, 1.05])\n",
    "plt.xlabel('False Positive Rate')\n",
    "plt.ylabel('True Positive Rate')\n",
    "plt.title('ROC curve')\n",
    "plt.savefig(\"ROC.png\")\n",
    "plt.show()"
   ]
  },
  {
   "cell_type": "code",
   "execution_count": 216,
   "metadata": {},
   "outputs": [],
   "source": [
    "from sklearn.metrics import classification_report\n",
    "from sklearn.metrics import roc_auc_score"
   ]
  },
  {
   "cell_type": "code",
   "execution_count": 218,
   "metadata": {},
   "outputs": [
    {
     "name": "stdout",
     "output_type": "stream",
     "text": [
      "Classification Report : \n",
      "              precision    recall  f1-score   support\n",
      "\n",
      "           0       0.78      1.00      0.88      2917\n",
      "           1       0.00      0.00      0.00       833\n",
      "\n",
      "    accuracy                           0.78      3750\n",
      "   macro avg       0.39      0.50      0.44      3750\n",
      "weighted avg       0.61      0.78      0.68      3750\n",
      "\n",
      "AUC-ROC: 0.5\n"
     ]
    },
    {
     "name": "stderr",
     "output_type": "stream",
     "text": [
      "C:\\Users\\Tema\\anaconda3\\envs\\cinimex\\lib\\site-packages\\sklearn\\metrics\\_classification.py:1221: UndefinedMetricWarning: Precision and F-score are ill-defined and being set to 0.0 in labels with no predicted samples. Use `zero_division` parameter to control this behavior.\n",
      "  _warn_prf(average, modifier, msg_start, len(result))\n"
     ]
    }
   ],
   "source": [
    "print('Classification Report : ')\n",
    "print(classification_report(y[int(X.shape[0]*0.75):], log_reg.predict(X__[int(X.shape[0]*0.75):])))\n",
    "print('AUC-ROC:',roc_auc_score(y[int(X.shape[0]*0.75):], log_reg.predict(X__[int(X.shape[0]*0.75):])))"
   ]
  },
  {
   "cell_type": "code",
   "execution_count": 219,
   "metadata": {},
   "outputs": [
    {
     "name": "stdout",
     "output_type": "stream",
     "text": [
      "Classification Report : \n",
      "              precision    recall  f1-score   support\n",
      "\n",
      "           0       0.78      1.00      0.87      2917\n",
      "           1       0.25      0.00      0.01       833\n",
      "\n",
      "    accuracy                           0.78      3750\n",
      "   macro avg       0.51      0.50      0.44      3750\n",
      "weighted avg       0.66      0.78      0.68      3750\n",
      "\n",
      "AUC-ROC: 0.500344052602186\n"
     ]
    }
   ],
   "source": [
    "print('Classification Report : ')\n",
    "print(classification_report(y[int(X.shape[0]*0.75):], knn.predict(X__[int(X.shape[0]*0.75):])))\n",
    "print('AUC-ROC:',roc_auc_score(y[int(X.shape[0]*0.75):], knn.predict(X__[int(X.shape[0]*0.75):])))"
   ]
  },
  {
   "cell_type": "code",
   "execution_count": 228,
   "metadata": {},
   "outputs": [],
   "source": [
    "@cross_validation\n",
    "def RandomForest(train_X, train_Y, test_X, test_Y, metric,estim=50):\n",
    "    rfc = RandomForestClassifier(n_estimators=estim)\n",
    "    rfc.fit(train_X, train_Y)\n",
    "    if (metric == 'accuracy'):\n",
    "        return rfc.score(test_X, test_Y)\n",
    "    elif (metric == 'auc'):\n",
    "        return roc_auc_score(rfc.predict(test_X), test_Y)"
   ]
  },
  {
   "cell_type": "code",
   "execution_count": 231,
   "metadata": {},
   "outputs": [
    {
     "data": {
      "text/plain": [
       "0.5094295423634929"
      ]
     },
     "execution_count": 231,
     "metadata": {},
     "output_type": "execute_result"
    }
   ],
   "source": [
    "RandomForest(X, y, 4, metric='auc')"
   ]
  },
  {
   "cell_type": "code",
   "execution_count": 232,
   "metadata": {},
   "outputs": [
    {
     "ename": "TypeError",
     "evalue": "wrapper() got an unexpected keyword argument 'metric'",
     "output_type": "error",
     "traceback": [
      "\u001b[1;31m---------------------------------------------------------------------------\u001b[0m",
      "\u001b[1;31mTypeError\u001b[0m                                 Traceback (most recent call last)",
      "\u001b[1;32m<ipython-input-232-3402018c7063>\u001b[0m in \u001b[0;36m<module>\u001b[1;34m\u001b[0m\n\u001b[1;32m----> 1\u001b[1;33m \u001b[0mKNN\u001b[0m\u001b[1;33m(\u001b[0m\u001b[0mX\u001b[0m\u001b[1;33m,\u001b[0m \u001b[0my\u001b[0m\u001b[1;33m,\u001b[0m \u001b[1;36m4\u001b[0m\u001b[1;33m,\u001b[0m \u001b[1;36m21\u001b[0m\u001b[1;33m,\u001b[0m \u001b[0mmetric\u001b[0m\u001b[1;33m=\u001b[0m\u001b[1;34m'auc'\u001b[0m\u001b[1;33m)\u001b[0m\u001b[1;33m\u001b[0m\u001b[1;33m\u001b[0m\u001b[0m\n\u001b[0m",
      "\u001b[1;31mTypeError\u001b[0m: wrapper() got an unexpected keyword argument 'metric'"
     ]
    }
   ],
   "source": [
    "KNN(X, y, 4, 21, metric='auc')"
   ]
  },
  {
   "cell_type": "code",
   "execution_count": 230,
   "metadata": {},
   "outputs": [],
   "source": [
    "from sklearn.ensemble import RandomForestClassifier\n",
    "# rfc = RandomForestClassifier(n_estimators = 50)\n",
    "# rfc.fit(X_train, y_train)"
   ]
  },
  {
   "cell_type": "code",
   "execution_count": null,
   "metadata": {},
   "outputs": [],
   "source": []
  }
 ],
 "metadata": {
  "kernelspec": {
   "display_name": "Python 3",
   "language": "python",
   "name": "python3"
  },
  "language_info": {
   "codemirror_mode": {
    "name": "ipython",
    "version": 3
   },
   "file_extension": ".py",
   "mimetype": "text/x-python",
   "name": "python",
   "nbconvert_exporter": "python",
   "pygments_lexer": "ipython3",
   "version": "3.7.7"
  }
 },
 "nbformat": 4,
 "nbformat_minor": 4
}
